{
 "cells": [
  {
   "cell_type": "code",
   "execution_count": null,
   "metadata": {},
   "outputs": [],
   "source": [
    "from pandas_datareader import data\n",
    "import matplotlib.pyplot as plt\n",
    "import pandas as pd\n",
    "import datetime as dt\n",
    "import urllib.request, json\n",
    "import os\n",
    "import numpy as np\n",
    "import tensorflow as tf\n",
    "from sklearn.preprocessing import MinMaxScaler"
   ]
  },
  {
   "cell_type": "code",
   "execution_count": 2,
   "metadata": {},
   "outputs": [
    {
     "name": "stdout",
     "output_type": "stream",
     "text": [
      "Data saved to : stock_market_data-AAL.csv\n"
     ]
    }
   ],
   "source": [
    "api_key = 'LOC9YBYQ9T5BT0AL'\n",
    "\n",
    "# American Airlines stock market prices\n",
    "ticker = \"AAL\"\n",
    "\n",
    "# JSON file with all the stock market data for AAL from the last 20 years\n",
    "url_string = \"https://www.alphavantage.co/query?function=TIME_SERIES_DAILY&symbol=%s&outputsize=full&apikey=%s\"%(ticker,api_key)\n",
    "\n",
    "# Save data to this file\n",
    "file_to_save = 'stock_market_data-%s.csv'%ticker\n",
    "\n",
    "# If you haven't already saved data,\n",
    "# grab the data from the url and store date, low, high, volume, close, open values to a Pandas DataFrame\n",
    "if not os.path.exists(file_to_save):\n",
    "    with urllib.request.urlopen(url_string) as url:\n",
    "        data = json.loads(url.read().decode())\n",
    "        # extract stock market data\n",
    "        data = data['Time Series (Daily)']\n",
    "        df = pd.DataFrame(columns=['Date','Low','High','Close','Open'])\n",
    "        for k,v in data.items():\n",
    "            date = dt.datetime.strptime(k, '%Y-%m-%d')\n",
    "            data_row = [date.date(),float(v['3. low']),float(v['2. high']), float(v['4. close']),float(v['1. open'])]\n",
    "            df.loc[-1,:] = data_row\n",
    "            df.index = df.index + 1\n",
    "    print('Data saved to : %s'%file_to_save)        \n",
    "    df.to_csv(file_to_save)\n"
   ]
  }
 ],
 "metadata": {
  "kernelspec": {
   "display_name": "Python 3",
   "language": "python",
   "name": "python3"
  },
  "language_info": {
   "codemirror_mode": {
    "name": "ipython",
    "version": 3
   },
   "file_extension": ".py",
   "mimetype": "text/x-python",
   "name": "python",
   "nbconvert_exporter": "python",
   "pygments_lexer": "ipython3",
   "version": "3.12.3"
  }
 },
 "nbformat": 4,
 "nbformat_minor": 2
}
